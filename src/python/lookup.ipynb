{
 "cells": [
  {
   "cell_type": "markdown",
   "id": "ccf1191e",
   "metadata": {},
   "source": [
    "# Lookup Announcements"
   ]
  },
  {
   "cell_type": "code",
   "execution_count": null,
   "id": "c3aa2631",
   "metadata": {},
   "outputs": [],
   "source": [
    "import pandas as pd\n",
    "try:\n",
    "    sharedSecrets = pd.read_csv(\"sharedSecrets.txt\")\n",
    "except:\n",
    "    assert False"
   ]
  },
  {
   "cell_type": "code",
   "execution_count": null,
   "id": "579e5dec",
   "metadata": {},
   "outputs": [],
   "source": [
    "import hashlib\n",
    "from py_ecc.secp256k1 import *\n",
    "import sha3\n",
    "from eth_account import Account\n",
    "\n",
    "privateKey = int(0x0000000000000000000000000000000000000000000000000000000000000001)\n",
    "publicKey  = secp256k1.privtopub(privateKey.to_bytes(32, \"big\")) # public key"
   ]
  },
  {
   "cell_type": "code",
   "execution_count": null,
   "id": "7d8a725c",
   "metadata": {},
   "outputs": [],
   "source": [
    "for ix, row in sharedSecrets.iterrows():\n",
    "    Q = secp256k1.multiply((int(row[\"pubkey_X\"]),int(row[\"pubkey_Y\"])), privateKey)\n",
    "    Q_hex = sha3.keccak_256(Q[0].to_bytes(32, \"big\")+Q[1].to_bytes(32, \"big\")).hexdigest() # note, toStr conversion\n",
    "    Q_hased = bytearray.fromhex(Q_hex)\n",
    "    \n",
    "    if row[\"stealthaddr\"] == secp256k1.add(publicKey, secp256k1.privtopub(Q_hased)):\n",
    "        #store private key "
   ]
  }
 ],
 "metadata": {
  "kernelspec": {
   "display_name": "hackathon",
   "language": "python",
   "name": "hackathon"
  },
  "language_info": {
   "codemirror_mode": {
    "name": "ipython",
    "version": 3
   },
   "file_extension": ".py",
   "mimetype": "text/x-python",
   "name": "python",
   "nbconvert_exporter": "python",
   "pygments_lexer": "ipython3",
   "version": "3.6.9"
  }
 },
 "nbformat": 4,
 "nbformat_minor": 5
}
