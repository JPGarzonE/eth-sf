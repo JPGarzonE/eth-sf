{
 "cells": [
  {
   "cell_type": "markdown",
   "id": "13d9c04b",
   "metadata": {},
   "source": [
    "# Parse Announcements"
   ]
  },
  {
   "cell_type": "code",
   "execution_count": null,
   "id": "f24af71c",
   "metadata": {},
   "outputs": [],
   "source": [
    "from web3 import Web3\n",
    "import pandas as pd"
   ]
  },
  {
   "cell_type": "code",
   "execution_count": null,
   "id": "9b08fa8e",
   "metadata": {},
   "outputs": [],
   "source": [
    "with open(\"infurakey.txt\", \"r\") as file:\n",
    "    APIKEY = file.read().strip()"
   ]
  },
  {
   "cell_type": "code",
   "execution_count": null,
   "id": "61a4e886",
   "metadata": {},
   "outputs": [],
   "source": [
    "infura = f\"https://mainnet.infura.io/v3/{APIKEY}\"\n",
    "infura = \"http://127.0.0.1:8545\""
   ]
  },
  {
   "cell_type": "code",
   "execution_count": null,
   "id": "adeb568f",
   "metadata": {},
   "outputs": [],
   "source": [
    "w3 = Web3(Web3.HTTPProvider(infura))\n",
    "assert w3.isConnected()"
   ]
  },
  {
   "cell_type": "code",
   "execution_count": null,
   "id": "ba1a4fb6",
   "metadata": {},
   "outputs": [],
   "source": [
    "event_signature_transfer = w3.keccak(text=\"Announcement(address,uint256,uint256)\").hex()\n",
    "\n",
    "blocknow = w3.eth.get_block_number()\n",
    "    \n",
    "    \n",
    "event_filter = w3.eth.filter({\n",
    "    \"fromBlock\": blocknow - 100,\n",
    "    \"toBlock\": blocknow, \n",
    "    'topics': [event_signature_transfer]})\n",
    "#transfer_events = w3.eth.get_filter_changes(event_filter.filter_id)\n",
    "logs = w3.eth.get_filter_logs(event_filter.filter_id)"
   ]
  },
  {
   "cell_type": "code",
   "execution_count": null,
   "id": "67e5e551",
   "metadata": {},
   "outputs": [],
   "source": [
    "try:\n",
    "    knownHashes = set(pd.read_csv(\"knownhashes.txt\")[\"txhash\"].tolist())\n",
    "    print(knownHashes)\n",
    "    print(\"loaded\")\n",
    "except:\n",
    "    knownHashes = set()\n",
    "    print(\"not loaded\")\n",
    "    \n",
    "\n",
    "try:\n",
    "    sharedSecrets = pd.read_csv(\"sharedSecrets.txt\")\n",
    "    print(\"loaded\")\n",
    "except:\n",
    "    sharedSecrets = pd.DataFrame(columns=[\"txhash\", \"stealthaddr\", \"pubkey_X\", \"pubkey_Y\"])\n",
    "    print(\"not loaded\")\n",
    "\n",
    "for log in logs:\n",
    "    txhash = log[\"transactionHash\"].hex()[0:30]\n",
    "    if txhash in knownHashes:\n",
    "        continue\n",
    "    xy = []\n",
    "    for ix, topic in enumerate(log[\"topics\"]):\n",
    "        if ix == 0:\n",
    "            continue\n",
    "        if ix == 1:\n",
    "            stealthAddress = \"0x\" + topic.hex()[-40:]\n",
    "        else:\n",
    "            xy.append(int(topic.hex(),16))\n",
    "            \n",
    "    sharedSecrets.loc[len(sharedSecrets),(\"txhash\", \"stealthaddr\", \"pubkey_X\", \"pubkey_Y\")] = txhash, stealthAddress, xy[0], xy[1]\n",
    "    knownHashes.add(txhash)\n",
    "    \n",
    "sharedSecrets.to_csv(\"sharedSecrets.txt\", index=None)\n",
    "pd.DataFrame(knownHashes, columns=[\"txhash\"]).to_csv(\"knownhashes.txt\", index=None)"
   ]
  }
 ],
 "metadata": {
  "kernelspec": {
   "display_name": "hackathon",
   "language": "python",
   "name": "hackathon"
  },
  "language_info": {
   "codemirror_mode": {
    "name": "ipython",
    "version": 3
   },
   "file_extension": ".py",
   "mimetype": "text/x-python",
   "name": "python",
   "nbconvert_exporter": "python",
   "pygments_lexer": "ipython3",
   "version": "3.6.9"
  }
 },
 "nbformat": 4,
 "nbformat_minor": 5
}
